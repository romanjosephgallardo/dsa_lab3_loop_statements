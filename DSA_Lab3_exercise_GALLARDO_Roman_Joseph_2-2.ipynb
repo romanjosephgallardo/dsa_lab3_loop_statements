{
 "cells": [
  {
   "cell_type": "markdown",
   "metadata": {},
   "source": [
    "# **Laboratory Exercise 3**\n",
    "**Programmed by:** Gallardo, Roman Joseph C.\n"
   ]
  },
  {
   "cell_type": "markdown",
   "metadata": {},
   "source": [
    "**Course, Year and Section:** BSCpE 2-2\n"
   ]
  },
  {
   "cell_type": "markdown",
   "metadata": {},
   "source": [
    "**Instructor:** Prof. Godofredo Avena\n"
   ]
  },
  {
   "cell_type": "markdown",
   "metadata": {},
   "source": [
    "---"
   ]
  },
  {
   "cell_type": "markdown",
   "metadata": {},
   "source": [
    "# Object Oriented Programming\n",
    "## Laboratory Exercise \n",
    "Deadline: 11:59pm Oct 13, 2024\n",
    "\n",
    "upload you this file together with your answer, the filename should be DSA_Lab3_exercise<name_and_section>.ipynb\n",
    "\n",
    "upload to https://docs.google.com/forms/d/e/1FAIpQLSdbYz8nlwvYws-ukmS2CcJE6YGgJxpD2y0tVvAxfyz-_pV4mg/viewform?usp=pp_url\n"
   ]
  },
  {
   "cell_type": "markdown",
   "metadata": {},
   "source": [
    "\n",
    "\n"
   ]
  },
  {
   "cell_type": "markdown",
   "metadata": {},
   "source": []
  },
  {
   "cell_type": "code",
   "execution_count": null,
   "metadata": {},
   "outputs": [],
   "source": []
  },
  {
   "cell_type": "markdown",
   "metadata": {},
   "source": [
    "## Lab exercise 1\n",
    "\n",
    "from a given list of integers, create a new list using comprehension that will compute the square of odd integer elements.\n",
    "\n",
    "sample calls\n",
    "\n",
    "[2,4,3] == [9]\n",
    "[0,0,1,1] == [1,1]\n"
   ]
  },
  {
   "cell_type": "code",
   "execution_count": 4,
   "metadata": {},
   "outputs": [
    {
     "name": "stdout",
     "output_type": "stream",
     "text": [
      "[9]\n",
      "[1, 1]\n",
      "[25, 1, 81, 1]\n"
     ]
    }
   ],
   "source": [
    "# OOP\n",
    "# Square of Odd Integers from a list\n",
    "\n",
    "# Make a list\n",
    "list_1 = [2, 4, 3]\n",
    "list_2 = [0, 0, 1, 1]\n",
    "list_3 = [4, 5, 14, 14, 1, 4, 18, 9, 1, 14]\n",
    "\n",
    "# Find the odd elements and square them using list comprehension.\n",
    "class SquareOfOddIntegers:\n",
    "    def __init__(self):\n",
    "        pass\n",
    "\n",
    "    def computation(self, list):\n",
    "        squared_list = [element ** 2 for element in list if element % 2 == 1]\n",
    "        return squared_list\n",
    "\n",
    "# Print the square of the odd elements that can be found\n",
    "square_of_odd_elements = SquareOfOddIntegers()\n",
    "print(square_of_odd_elements.computation(list_1))\n",
    "print(square_of_odd_elements.computation(list_2))\n",
    "print(square_of_odd_elements.computation(list_3))"
   ]
  },
  {
   "cell_type": "markdown",
   "metadata": {},
   "source": [
    "***Link for GitHub Repository:*** https://github.com/romanjosephgallardo/square-of-odd-integers"
   ]
  },
  {
   "cell_type": "markdown",
   "metadata": {},
   "source": []
  },
  {
   "cell_type": "markdown",
   "metadata": {},
   "source": [
    "## Lab exercise 2\n",
    "\n",
    "Using comprehension,create a new list of tuples from two given lists:\n",
    "\n",
    "### sample calls\n",
    "\n",
    "list1[1,2,3]\n",
    "list2[\"mark\",\"alice\",\"john]\n",
    "\n",
    "result: listOfTuple[(1,\"mark\"),(2,\"alice\"),(3,\"john\")] "
   ]
  },
  {
   "cell_type": "code",
   "execution_count": 10,
   "metadata": {},
   "outputs": [
    {
     "name": "stdout",
     "output_type": "stream",
     "text": [
      "listOfTuple[(1, 'mark'), (2, 'alice'), (3, 'john')]\n"
     ]
    }
   ],
   "source": [
    "# OOP\n",
    "# Create a list of tuples from two lists\n",
    "\n",
    "# Define a class that takes two lists as input\n",
    "class ListOfTuples:\n",
    "    # Define a method that takes two lists as input\n",
    "    def __init__(self, list_1, list_2):\n",
    "        self.list_1 = list_1\n",
    "        self.list_2 = list_2\n",
    "    \n",
    "    # Define a method that creates a list of tuples from two lists\n",
    "    def create_list_of_tuples(self):\n",
    "        list_of_tuples = [(self.list_1[element], self.list_2[element]) for element in range(len(self.list_1))]\n",
    "        # Print the list of tuples\n",
    "        print(\"listOfTuple{}\".format(list_of_tuples))\n",
    "\n",
    "# Make two lists\n",
    "list1 = [1, 2, 3]\n",
    "list2 = [\"mark\", \"alice\", \"john\"]\n",
    "\n",
    "# Instantiate the class and call the method\n",
    "tuple1 = ListOfTuples(list1, list2)\n",
    "tuple1.create_list_of_tuples()\n"
   ]
  },
  {
   "cell_type": "markdown",
   "metadata": {},
   "source": [
    "***Link for GitHub Repository:*** https://github.com/romanjosephgallardo/create-list-of-tuples-from-two-lists"
   ]
  },
  {
   "cell_type": "markdown",
   "metadata": {},
   "source": [
    "\n"
   ]
  },
  {
   "cell_type": "markdown",
   "metadata": {},
   "source": [
    "## Lab exercise 3\n",
    "### Provide a list comprehension that implementation for a function called vowelsToUpper with the following signature:\n",
    "\n",
    "method name : vowelsToUpper\n",
    "\n",
    "input argument : String \n",
    "\n",
    "return argument : String\n",
    "\n",
    "vowelsToUpper must return a version of its String argument with all its vowels changed to their uppercase forms. Nonvowel characters stay as is.\n",
    "\n",
    "### Sample Calls\n",
    "\n",
    "vowelsToUpper \"\" == \"\"\n",
    "\n",
    "vowelsToUpper \"Hello, world!\" == \"HEllO, wOrld!\"\n",
    "\n",
    "vowelsToUpper \"hello hi bye\" == \"hEllO hI byE\""
   ]
  },
  {
   "cell_type": "code",
   "execution_count": 1,
   "metadata": {},
   "outputs": [
    {
     "name": "stdout",
     "output_type": "stream",
     "text": [
      "HEllO, wOrld!\n"
     ]
    }
   ],
   "source": [
    "# Vowels to Upper\n",
    "\n",
    "# Define a class called vowelsToUpper that takes a string as input\n",
    "class VowelsToUpper:\n",
    "    def __init__(self, string):\n",
    "        self.string = string\n",
    "    # Define a function called vowelsToUpper that takes a string as input\n",
    "    def vowelsToUpper(self):\n",
    "        lower_case_vowels = ['a', 'e', 'i', 'o', 'u']\n",
    "        # Use list comprehension to change the vowels to uppercase\n",
    "        result = ''.join([character.upper() if character in lower_case_vowels else character for character in self.string])\n",
    "        return result\n",
    "    \n",
    "# Make a user input for the string\n",
    "user_input_string = input(\"Enter a string: \")\n",
    "\n",
    "# Instantiate the class and call the method\n",
    "vowels_to_upper = VowelsToUpper(user_input_string)\n",
    "output = vowels_to_upper.vowelsToUpper()\n",
    "\n",
    "# Print the result\n",
    "print(output)"
   ]
  },
  {
   "cell_type": "markdown",
   "metadata": {},
   "source": [
    "***Link for GitHub Repository:*** https://github.com/romanjosephgallardo/vowelsToUpper-List-Comprehension-Function"
   ]
  }
 ],
 "metadata": {
  "kernelspec": {
   "display_name": "Python 3",
   "language": "python",
   "name": "python3"
  },
  "language_info": {
   "codemirror_mode": {
    "name": "ipython",
    "version": 3
   },
   "file_extension": ".py",
   "mimetype": "text/x-python",
   "name": "python",
   "nbconvert_exporter": "python",
   "pygments_lexer": "ipython3",
   "version": "3.12.1"
  }
 },
 "nbformat": 4,
 "nbformat_minor": 2
}
